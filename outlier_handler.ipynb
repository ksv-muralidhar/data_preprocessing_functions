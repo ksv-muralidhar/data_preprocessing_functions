{
 "cells": [
  {
   "cell_type": "code",
   "execution_count": 1,
   "id": "4715e28d-51bd-45de-b0bb-9c8d5b153f7b",
   "metadata": {
    "tags": []
   },
   "outputs": [],
   "source": [
    "import pandas as pd\n",
    "import numpy as np"
   ]
  },
  {
   "cell_type": "code",
   "execution_count": 2,
   "id": "f83c170a-e3c2-491b-9c01-d213e2443274",
   "metadata": {
    "tags": []
   },
   "outputs": [],
   "source": [
    "class OutlierHandler:\n",
    "    \n",
    "    '''\n",
    "    - Handles outliers by either removing them or clipping them.\n",
    "    \n",
    "    - Strategies must be specified as a dict like {column_name: strategy}.\n",
    "    \n",
    "    - Strategies can be of 3 types: \"quantile\", \"values\" and \"iqr\"\n",
    "    \n",
    "    - If strategy=\"quantile\", it should be specified like {\"col_name\": ['quantile', [lower_quantile, upper_quantile], fill_value]}\n",
    "       - lower_bound value is computed using lower_quantile (float) and upper_bound value is computed using upper_quantile (float). \n",
    "       - fill_value must be \n",
    "          - \"clip\" to make (values < lower_bound = lower_bound) and (values > upper_bound = upper_bound)\n",
    "          - 'na' to make (values < lower_bound = NaN) and (values > upper_bound = NaN)\n",
    "          \n",
    "    - If strategy=\"values\", it should be specified like {\"col_name\": ['values', [lower_bound, upper_bound], fill_value]}\n",
    "       - fill_value must be \n",
    "          - \"clip\" to make (values < lower_bound = lower_bound) and (values > upper_bound = upper_bound)\n",
    "          - 'na' to make (values < lower_bound = NaN) and (values > upper_bound = NaN)\n",
    "          \n",
    "    - If strategy=\"iqr\", it should be specified like {\"col_name\": ['iqr', fill_value]}\n",
    "       - lower_bound is calculated as [q1 - (1.5 * IQR)] and upper_bound is calculated as [q3 + (1.5 * IQR)]\n",
    "       - fill_value must be \n",
    "          - \"clip\" to make (values < lower_bound = lower_bound) and (values > upper_bound = upper_bound)\n",
    "          - 'na' to make (values < lower_bound = NaN) and (values > upper_bound = NaN)\n",
    "      \n",
    "      Inputs:\n",
    "      strategies: dict\n",
    "          Dict specifying imputation strategies.\n",
    "    '''\n",
    "    \n",
    "    def __init__(self, strategies):\n",
    "        self.strategies = strategies\n",
    "        self.outlier_bounds = {}\n",
    "        self.fill_values = {}\n",
    "        \n",
    "    @staticmethod\n",
    "    def __find_iqr_bounds(x):\n",
    "        '''\n",
    "        Compute lower and upper bounds using the IQR method\n",
    "        '''\n",
    "        if not isinstance(x, pd.Series):\n",
    "            x = pd.Series(x)\n",
    "        q1 = x.quantile(0.25)\n",
    "        q3 = x.quantile(0.75)\n",
    "        iqr = q3 - q1\n",
    "        lower_bound = (q1 - (1.5 * iqr))\n",
    "        upper_bound = (q3 + (1.5 * iqr))\n",
    "        return [lower_bound, upper_bound]\n",
    "    \n",
    "    @staticmethod\n",
    "    def __find_quantile_bounds(x, bounds):\n",
    "        '''\n",
    "        Compute lower and upper bounds using the specified lower and upper quantiles\n",
    "        '''\n",
    "        if not isinstance(x, pd.Series):\n",
    "            x = pd.Series(x)\n",
    "        lower_bound = x.quantile(bounds[0])\n",
    "        upper_bound = x.quantile(bounds[1])\n",
    "        return [lower_bound, upper_bound]\n",
    "        \n",
    "    def fit(self, x):\n",
    "        for col in self.strategies:\n",
    "            strategy = self.strategies[col]\n",
    "            method = strategy[0]\n",
    "            if method == 'quantile':\n",
    "                self.outlier_bounds[col] = self.__find_quantile_bounds(x[col], strategy[1])\n",
    "                self.fill_values[col] = strategy[2]\n",
    "            elif method == 'values':\n",
    "                self.outlier_bounds[col] = strategy[1]\n",
    "                self.fill_values[col] = strategy[2]\n",
    "            else:\n",
    "                self.outlier_bounds[col] = self.__find_iqr_bounds(x[col])\n",
    "                self.fill_values[col] = strategy[1]\n",
    "                \n",
    "        return self   \n",
    "    \n",
    "    def transform(self, x):\n",
    "        x = x.copy()\n",
    "        for col in self.strategies:\n",
    "            strategy = self.strategies[col]\n",
    "            method = strategy[0]\n",
    "            bounds = self.outlier_bounds[col]\n",
    "            lower_bound = bounds[0]\n",
    "            upper_bound = bounds[1]\n",
    "            fill_value = self.fill_values[col]\n",
    "\n",
    "            if fill_value == 'na':\n",
    "                x.loc[(x[col] < lower_bound), col] = np.nan\n",
    "                x.loc[(x[col] > upper_bound), col] = np.nan\n",
    "            else:\n",
    "                x.loc[(x[col] < lower_bound), col] = lower_bound\n",
    "                x.loc[(x[col] > upper_bound), col] = upper_bound\n",
    "                \n",
    "        return x\n",
    "    \n",
    "    def __repr__(self):\n",
    "        return f'OutlierHandler(strategies={self.strategies})'"
   ]
  },
  {
   "cell_type": "markdown",
   "id": "3efe53ec-a337-4751-a469-2b9e4ea28f1f",
   "metadata": {},
   "source": [
    "### Example"
   ]
  },
  {
   "cell_type": "code",
   "execution_count": 3,
   "id": "87f7891d-eaef-4c0d-8e65-60a5b5d38745",
   "metadata": {
    "tags": []
   },
   "outputs": [
    {
     "data": {
      "text/html": [
       "<div>\n",
       "<style scoped>\n",
       "    .dataframe tbody tr th:only-of-type {\n",
       "        vertical-align: middle;\n",
       "    }\n",
       "\n",
       "    .dataframe tbody tr th {\n",
       "        vertical-align: top;\n",
       "    }\n",
       "\n",
       "    .dataframe thead th {\n",
       "        text-align: right;\n",
       "    }\n",
       "</style>\n",
       "<table border=\"1\" class=\"dataframe\">\n",
       "  <thead>\n",
       "    <tr style=\"text-align: right;\">\n",
       "      <th></th>\n",
       "      <th>a</th>\n",
       "      <th>b</th>\n",
       "      <th>c</th>\n",
       "    </tr>\n",
       "  </thead>\n",
       "  <tbody>\n",
       "    <tr>\n",
       "      <th>0</th>\n",
       "      <td>1</td>\n",
       "      <td>-100</td>\n",
       "      <td>540</td>\n",
       "    </tr>\n",
       "    <tr>\n",
       "      <th>1</th>\n",
       "      <td>2</td>\n",
       "      <td>45</td>\n",
       "      <td>10</td>\n",
       "    </tr>\n",
       "    <tr>\n",
       "      <th>2</th>\n",
       "      <td>100</td>\n",
       "      <td>200</td>\n",
       "      <td>59</td>\n",
       "    </tr>\n",
       "    <tr>\n",
       "      <th>3</th>\n",
       "      <td>1000</td>\n",
       "      <td>2000</td>\n",
       "      <td>2</td>\n",
       "    </tr>\n",
       "  </tbody>\n",
       "</table>\n",
       "</div>"
      ],
      "text/plain": [
       "      a     b    c\n",
       "0     1  -100  540\n",
       "1     2    45   10\n",
       "2   100   200   59\n",
       "3  1000  2000    2"
      ]
     },
     "execution_count": 3,
     "metadata": {},
     "output_type": "execute_result"
    }
   ],
   "source": [
    "df = pd.DataFrame({'a':[1,2,100,1000], 'b':[-100,45,200,2000], 'c':[540,10,59,2]})\n",
    "df"
   ]
  },
  {
   "cell_type": "code",
   "execution_count": 4,
   "id": "9af5d73c-9212-432a-8078-345b775032bb",
   "metadata": {
    "tags": []
   },
   "outputs": [],
   "source": [
    "oh = OutlierHandler({'a': ['quantile', [0.2, 0.8], 'na'], 'b':['values', [0, 200], 'clip'], 'c':['iqr', 'clip']})"
   ]
  },
  {
   "cell_type": "code",
   "execution_count": 5,
   "id": "9afa9655-6d24-4d63-9e53-2c5b3f82999c",
   "metadata": {
    "tags": []
   },
   "outputs": [
    {
     "data": {
      "text/plain": [
       "OutlierHandler(strategies={'a': ['quantile', [0.2, 0.8], 'na'], 'b': ['values', [0, 200], 'clip'], 'c': ['iqr', 'clip']})"
      ]
     },
     "execution_count": 5,
     "metadata": {},
     "output_type": "execute_result"
    }
   ],
   "source": [
    "oh.fit(df)"
   ]
  },
  {
   "cell_type": "code",
   "execution_count": 6,
   "id": "d84d392e-48ae-4fa0-bc8a-55f39725aa84",
   "metadata": {
    "tags": []
   },
   "outputs": [
    {
     "data": {
      "text/html": [
       "<div>\n",
       "<style scoped>\n",
       "    .dataframe tbody tr th:only-of-type {\n",
       "        vertical-align: middle;\n",
       "    }\n",
       "\n",
       "    .dataframe tbody tr th {\n",
       "        vertical-align: top;\n",
       "    }\n",
       "\n",
       "    .dataframe thead th {\n",
       "        text-align: right;\n",
       "    }\n",
       "</style>\n",
       "<table border=\"1\" class=\"dataframe\">\n",
       "  <thead>\n",
       "    <tr style=\"text-align: right;\">\n",
       "      <th></th>\n",
       "      <th>a</th>\n",
       "      <th>b</th>\n",
       "      <th>c</th>\n",
       "    </tr>\n",
       "  </thead>\n",
       "  <tbody>\n",
       "    <tr>\n",
       "      <th>0</th>\n",
       "      <td>NaN</td>\n",
       "      <td>0</td>\n",
       "      <td>436.125</td>\n",
       "    </tr>\n",
       "    <tr>\n",
       "      <th>1</th>\n",
       "      <td>2.0</td>\n",
       "      <td>45</td>\n",
       "      <td>10.000</td>\n",
       "    </tr>\n",
       "    <tr>\n",
       "      <th>2</th>\n",
       "      <td>100.0</td>\n",
       "      <td>200</td>\n",
       "      <td>59.000</td>\n",
       "    </tr>\n",
       "    <tr>\n",
       "      <th>3</th>\n",
       "      <td>NaN</td>\n",
       "      <td>200</td>\n",
       "      <td>2.000</td>\n",
       "    </tr>\n",
       "  </tbody>\n",
       "</table>\n",
       "</div>"
      ],
      "text/plain": [
       "       a    b        c\n",
       "0    NaN    0  436.125\n",
       "1    2.0   45   10.000\n",
       "2  100.0  200   59.000\n",
       "3    NaN  200    2.000"
      ]
     },
     "execution_count": 6,
     "metadata": {},
     "output_type": "execute_result"
    }
   ],
   "source": [
    "res = oh.transform(df)\n",
    "res"
   ]
  },
  {
   "cell_type": "code",
   "execution_count": 7,
   "id": "f1e94316-de3f-4b2f-839a-01974c75219a",
   "metadata": {
    "tags": []
   },
   "outputs": [
    {
     "data": {
      "text/plain": [
       "{'a': [1.6, 460.00000000000034], 'b': [0, 200], 'c': [-248.875, 436.125]}"
      ]
     },
     "execution_count": 7,
     "metadata": {},
     "output_type": "execute_result"
    }
   ],
   "source": [
    "oh.outlier_bounds # lower and upper bounds of each feature"
   ]
  },
  {
   "cell_type": "code",
   "execution_count": 8,
   "id": "bd430285-96c6-4f06-ad16-813602e3e542",
   "metadata": {
    "tags": []
   },
   "outputs": [
    {
     "data": {
      "text/plain": [
       "{'a': 'na', 'b': 'clip', 'c': 'clip'}"
      ]
     },
     "execution_count": 8,
     "metadata": {},
     "output_type": "execute_result"
    }
   ],
   "source": [
    "oh.fill_values # fill values of each column specified by the user"
   ]
  },
  {
   "cell_type": "code",
   "execution_count": null,
   "id": "0302ee44-ec09-4e7f-9dca-1a063a29ac01",
   "metadata": {},
   "outputs": [],
   "source": []
  }
 ],
 "metadata": {
  "kernelspec": {
   "display_name": "Python 3 (ipykernel)",
   "language": "python",
   "name": "python3"
  },
  "language_info": {
   "codemirror_mode": {
    "name": "ipython",
    "version": 3
   },
   "file_extension": ".py",
   "mimetype": "text/x-python",
   "name": "python",
   "nbconvert_exporter": "python",
   "pygments_lexer": "ipython3",
   "version": "3.11.4"
  }
 },
 "nbformat": 4,
 "nbformat_minor": 5
}
